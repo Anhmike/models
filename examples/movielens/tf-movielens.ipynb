{
 "cells": [
  {
   "cell_type": "code",
   "execution_count": 1,
   "id": "66403032-4a33-44ab-ae1e-6b56ffce6f97",
   "metadata": {},
   "outputs": [],
   "source": [
    "import torch\n",
    "import nvtabular as nvt\n",
    "from nvtabular import dataset as ds\n",
    "from merlin_models import tf as mtf\n",
    "\n",
    "import logging\n",
    "logging.basicConfig(level=logging.INFO)"
   ]
  },
  {
   "cell_type": "code",
   "execution_count": 2,
   "id": "cec6e737-eba7-46a2-a4b4-ff295ac6fe56",
   "metadata": {},
   "outputs": [],
   "source": [
    "dataset = ds.MovieLens(\"/romeyn/data\")\n",
    "\n",
    "# stats = dataset.statistics(transformed=False, split_names=\"splits\")\n",
    "# stats.display_overview()"
   ]
  },
  {
   "cell_type": "code",
   "execution_count": 3,
   "id": "109e0687-324e-4467-b4e7-13f66aadabe1",
   "metadata": {},
   "outputs": [
    {
     "name": "stderr",
     "output_type": "stream",
     "text": [
      "INFO:nvtabular:Loading Transforming dataset from cache...\n",
      "INFO:nvtabular:Loading stats from /romeyn/data/movielens/transformed/stats.pb\n"
     ]
    },
    {
     "data": {
      "text/html": [
       "\n",
       "<script src=\"https://cdnjs.cloudflare.com/ajax/libs/webcomponentsjs/1.3.3/webcomponents-lite.js\"></script>\n",
       "<link rel=\"import\" href=\"https://raw.githubusercontent.com/PAIR-code/facets/1.0.0/facets-dist/facets-jupyter.html\" >\n",
       "<facets-overview id=\"elem\"></facets-overview>\n",
       "<script>\n",
       " document.querySelector(\"#elem\").protoInput = \"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\";\n",
       "</script>"
      ],
      "text/plain": [
       "<IPython.core.display.HTML object>"
      ]
     },
     "metadata": {},
     "output_type": "display_data"
    }
   ],
   "source": [
    "data = dataset.transform(for_training=True)\n",
    "transformed_stats = dataset.statistics(transformed=True)\n",
    "\n",
    "transformed_stats.display_overview()"
   ]
  },
  {
   "cell_type": "code",
   "execution_count": 4,
   "id": "250160b6-c63c-437b-b198-0434aef264f6",
   "metadata": {},
   "outputs": [],
   "source": [
    "# dataset.schema(transformed=True)"
   ]
  },
  {
   "cell_type": "code",
   "execution_count": 5,
   "id": "86be106c-675a-4078-a5e8-099c9de62efb",
   "metadata": {},
   "outputs": [
    {
     "data": {
      "text/plain": [
       "{'userId': TensorShape([20000, 1]),\n",
       " 'genres': TensorShape([20000, 10]),\n",
       " 'movieId': TensorShape([20000, 1]),\n",
       " 'rating': TensorShape([20000, 1]),\n",
       " 'rating_binary': TensorShape([20000, 1])}"
      ]
     },
     "execution_count": 5,
     "metadata": {},
     "output_type": "execute_result"
    }
   ],
   "source": [
    "dataloader_kwargs = dict(batch_size=20000, separate_labels=True, targets=[\"rating_binary\"])\n",
    "\n",
    "train_data = mtf.DataLoader.from_directory(data.train, **dataloader_kwargs)\n",
    "eval_data = mtf.DataLoader.from_directory(data.eval, **dataloader_kwargs)\n",
    "\n",
    "train_data.output_shapes"
   ]
  },
  {
   "cell_type": "code",
   "execution_count": 6,
   "id": "f3aa3b67-93ee-466c-b0e3-241462030485",
   "metadata": {},
   "outputs": [
    {
     "data": {
      "text/plain": [
       "SequentialBlockWithHead(\n",
       "  (block): SequentialBlock(\n",
       "    (layers): List(\n",
       "      (0): TabularFeatures(\n",
       "        (to_merge): List(\n",
       "          (0): EmbeddingFeatures(\n",
       "            (convert_to_sparse): AsSparseFeatures()\n",
       "            (embeddings): Dict(\n",
       "              (userId): TableConfig(vocabulary_size=162541, dim=512, initializer=None, optimizer=None, combiner='mean', name='userId')\n",
       "              (genres): TableConfig(vocabulary_size=20, dim=16, initializer=None, optimizer=None, combiner='mean', name='genres')\n",
       "              (movieId): TableConfig(vocabulary_size=56585, dim=512, initializer=None, optimizer=None, combiner='mean', name='movieId')\n",
       "            )\n",
       "          )\n",
       "        )\n",
       "        (aggregation): ConcatFeatures()\n",
       "      )\n",
       "      (1): Dense(512, activation=relu, use_bias=True)\n",
       "      (2): Dense(256, activation=relu, use_bias=True)\n",
       "    )\n",
       "  )\n",
       "  (head): Head(\n",
       "    (tasks): Dict(\n",
       "      (rating_binary): PredictionTask(\n",
       "        (pre): Dense(1, activation=sigmoid, use_bias=True)\n",
       "        (eval_metrics): List(\n",
       "          (0): Precision()\n",
       "          (1): Recall()\n",
       "          (2): BinaryAccuracy()\n",
       "          (3): AUC()\n",
       "        )\n",
       "        (loss): BinaryCrossentropy()\n",
       "      )\n",
       "      (rating): PredictionTask(\n",
       "        (pre): Dense(1, activation=linear, use_bias=True)\n",
       "        (eval_metrics): List(\n",
       "          (0): RootMeanSquaredError()\n",
       "        )\n",
       "        (loss): MeanSquaredError()\n",
       "      )\n",
       "    )\n",
       "  )\n",
       "  (optimizer): Adam()\n",
       ")"
      ]
     },
     "execution_count": 6,
     "metadata": {},
     "output_type": "execute_result"
    }
   ],
   "source": [
    "inputs = mtf.TabularFeatures.from_column_group(train_data.columns, aggregation=\"concat\")\n",
    "block = inputs >> mtf.MLPBlock([512, 256])\n",
    "head = mtf.Head.from_column_group(train_data.columns)\n",
    "model = block.to_model(head, optimizer=\"adam\")\n",
    "\n",
    "model"
   ]
  },
  {
   "cell_type": "code",
   "execution_count": 7,
   "id": "57f9aada-f338-45bb-919f-e301ad8eb58e",
   "metadata": {},
   "outputs": [
    {
     "name": "stdout",
     "output_type": "stream",
     "text": [
      "Epoch 1/3\n",
      "WARNING:tensorflow:From /opt/conda/lib/python3.8/site-packages/tensorflow/python/ops/array_ops.py:5043: calling gather (from tensorflow.python.ops.array_ops) with validate_indices is deprecated and will be removed in a future version.\n",
      "Instructions for updating:\n",
      "The `validate_indices` argument has no effect. Indices are always validated on CPU and never validated on GPU.\n"
     ]
    },
    {
     "name": "stderr",
     "output_type": "stream",
     "text": [
      "WARNING:tensorflow:From /opt/conda/lib/python3.8/site-packages/tensorflow/python/ops/array_ops.py:5043: calling gather (from tensorflow.python.ops.array_ops) with validate_indices is deprecated and will be removed in a future version.\n",
      "Instructions for updating:\n",
      "The `validate_indices` argument has no effect. Indices are always validated on CPU and never validated on GPU.\n"
     ]
    },
    {
     "name": "stdout",
     "output_type": "stream",
     "text": [
      "1001/1001 [==============================] - 50s 44ms/step - rating/rmse: 0.4142 - rating_binary/precision: 0.7613 - rating_binary/recall: 0.8660 - rating_binary/accuracy: 0.7465 - rating_binary/auc: 0.8053 - loss: 0.6822 - regularization_loss: 0.0000e+00 - total_loss: 0.6822\n",
      "Epoch 2/3\n",
      "1001/1001 [==============================] - 47s 44ms/step - rating/rmse: 0.3911 - rating_binary/precision: 0.7932 - rating_binary/recall: 0.8671 - rating_binary/accuracy: 0.7756 - rating_binary/auc: 0.8442 - loss: 0.6170 - regularization_loss: 0.0000e+00 - total_loss: 0.6170\n",
      "Epoch 3/3\n",
      "1001/1001 [==============================] - 50s 46ms/step - rating/rmse: 0.3732 - rating_binary/precision: 0.8162 - rating_binary/recall: 0.8737 - rating_binary/accuracy: 0.7980 - rating_binary/auc: 0.8716 - loss: 0.5652 - regularization_loss: 0.0000e+00 - total_loss: 0.5652\n"
     ]
    },
    {
     "data": {
      "text/plain": [
       "<tensorflow.python.keras.callbacks.History at 0x7f51e32099a0>"
      ]
     },
     "execution_count": 7,
     "metadata": {},
     "output_type": "execute_result"
    }
   ],
   "source": [
    "model.fit(train_data, epochs=3)"
   ]
  },
  {
   "cell_type": "code",
   "execution_count": null,
   "id": "9fc90b23-9702-492a-b8da-df07a18259cb",
   "metadata": {},
   "outputs": [],
   "source": []
  }
 ],
 "metadata": {
  "kernelspec": {
   "display_name": "Python 3",
   "language": "python",
   "name": "python3"
  },
  "language_info": {
   "codemirror_mode": {
    "name": "ipython",
    "version": 3
   },
   "file_extension": ".py",
   "mimetype": "text/x-python",
   "name": "python",
   "nbconvert_exporter": "python",
   "pygments_lexer": "ipython3",
   "version": "3.8.8"
  }
 },
 "nbformat": 4,
 "nbformat_minor": 5
}

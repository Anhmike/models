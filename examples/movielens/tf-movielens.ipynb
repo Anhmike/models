{
 "cells": [
  {
   "cell_type": "code",
   "execution_count": 1,
   "id": "66403032-4a33-44ab-ae1e-6b56ffce6f97",
   "metadata": {},
   "outputs": [],
   "source": [
    "import torch\n",
    "import nvtabular as nvt\n",
    "from nvtabular import dataset as ds\n",
    "from merlin_models import tf as mtf"
   ]
  },
  {
   "cell_type": "code",
   "execution_count": 2,
   "id": "13166c1e-98da-4172-a1e3-7270887375df",
   "metadata": {},
   "outputs": [
    {
     "data": {
      "text/plain": [
       "[Column(name='userId', tags=['user', 'categorical'], properties={}),\n",
       " Column(name='movieId', tags=['item', 'categorical'], properties={})]"
      ]
     },
     "execution_count": 2,
     "metadata": {},
     "output_type": "execute_result"
    }
   ],
   "source": [
    "user_id = nvt.ColumnGroup([\"userId\"], tags=nvt.Tag.USER)\n",
    "item_id = nvt.ColumnGroup([\"movieId\"], tags=nvt.Tag.ITEM)\n",
    "\n",
    "cat_features = (\n",
    "    user_id + item_id\n",
    "    >> nvt.ops.Categorify()\n",
    ")\n",
    "\n",
    "cat_features.columns"
   ]
  },
  {
   "cell_type": "code",
   "execution_count": 3,
   "id": "d8630a57-52f2-4486-9860-a94395bc47e4",
   "metadata": {},
   "outputs": [
    {
     "data": {
      "text/plain": [
       "{'userId': ['user', 'categorical'], 'movieId': ['item', 'categorical']}"
      ]
     },
     "execution_count": 3,
     "metadata": {},
     "output_type": "execute_result"
    }
   ],
   "source": [
    "cat_features.tags_by_column()"
   ]
  },
  {
   "cell_type": "code",
   "execution_count": 4,
   "id": "cec6e737-eba7-46a2-a4b4-ff295ac6fe56",
   "metadata": {},
   "outputs": [
    {
     "data": {
      "text/html": [
       "\n",
       "<script src=\"https://cdnjs.cloudflare.com/ajax/libs/webcomponentsjs/1.3.3/webcomponents-lite.js\"></script>\n",
       "<link rel=\"import\" href=\"https://raw.githubusercontent.com/PAIR-code/facets/1.0.0/facets-dist/facets-jupyter.html\" >\n",
       "<facets-overview id=\"elem\"></facets-overview>\n",
       "<script>\n",
       " document.querySelector(\"#elem\").protoInput = \"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\";\n",
       "</script>"
      ],
      "text/plain": [
       "<IPython.core.display.HTML object>"
      ]
     },
     "metadata": {},
     "output_type": "display_data"
    }
   ],
   "source": [
    "dataset = ds.MovieLens(\"/romeyn/data\")\n",
    "\n",
    "data = dataset.transform()\n",
    "stats = dataset.statistics(transformed=False, split_names=\"splits\")\n",
    "\n",
    "stats.display_overview()"
   ]
  },
  {
   "cell_type": "code",
   "execution_count": 3,
   "id": "250160b6-c63c-437b-b198-0434aef264f6",
   "metadata": {},
   "outputs": [
    {
     "data": {
      "text/plain": [
       "namespace(train=None, eval=None)"
      ]
     },
     "execution_count": 3,
     "metadata": {},
     "output_type": "execute_result"
    }
   ],
   "source": [
    "dataset.schema(transformed=True)"
   ]
  },
  {
   "cell_type": "code",
   "execution_count": 3,
   "id": "86be106c-675a-4078-a5e8-099c9de62efb",
   "metadata": {},
   "outputs": [
    {
     "data": {
      "text/plain": [
       "{'movieId': TensorShape([20000, 1]),\n",
       " 'rating': TensorShape([20000, 1]),\n",
       " 'userId': TensorShape([20000, 1]),\n",
       " 'genres': TensorShape([20000, 10]),\n",
       " 'rating_binary': TensorShape([20000, 1])}"
      ]
     },
     "execution_count": 3,
     "metadata": {},
     "output_type": "execute_result"
    }
   ],
   "source": [
    "dataloader_kwargs = dict(batch_size=20000, separate_labels=True, targets=[\"rating_binary\"])\n",
    "\n",
    "train_data = mtf.DataLoader.from_directory(data.get_dir(\"train\"), **dataloader_kwargs)\n",
    "eval_data = mtf.DataLoader.from_directory(data.get_dir(\"eval\"), **dataloader_kwargs)\n",
    "\n",
    "train_data.output_shapes"
   ]
  },
  {
   "cell_type": "code",
   "execution_count": 4,
   "id": "f3aa3b67-93ee-466c-b0e3-241462030485",
   "metadata": {},
   "outputs": [
    {
     "data": {
      "text/plain": [
       "SequentialBlockWithHead(\n",
       "  (block): SequentialBlock(\n",
       "    (layers): List(\n",
       "      (0): TabularFeatures(\n",
       "        (to_merge): List(\n",
       "          (0): EmbeddingFeatures(\n",
       "            (convert_to_sparse): AsSparseFeatures()\n",
       "            (embeddings): Dict(\n",
       "              (movieId): TableConfig(vocabulary_size=56585, dim=512, initializer=None, optimizer=None, combiner='mean', name='movieId')\n",
       "              (userId): TableConfig(vocabulary_size=162541, dim=512, initializer=None, optimizer=None, combiner='mean', name='userId')\n",
       "              (genres): TableConfig(vocabulary_size=20, dim=16, initializer=None, optimizer=None, combiner='mean', name='genres')\n",
       "            )\n",
       "          )\n",
       "        )\n",
       "        (aggregation): ConcatFeatures()\n",
       "      )\n",
       "      (1): Dense(512, activation=relu, use_bias=True)\n",
       "      (2): Dense(256, activation=relu, use_bias=True)\n",
       "    )\n",
       "  )\n",
       "  (head): Head(\n",
       "    (tasks): Dict(\n",
       "      (rating_binary): PredictionTask(\n",
       "        (pre): Dense(1, activation=sigmoid, use_bias=True)\n",
       "        (eval_metrics): List(\n",
       "          (0): Precision()\n",
       "          (1): Recall()\n",
       "          (2): BinaryAccuracy()\n",
       "          (3): AUC()\n",
       "        )\n",
       "        (loss): BinaryCrossentropy()\n",
       "      )\n",
       "      (rating): PredictionTask(\n",
       "        (pre): Dense(1, activation=linear, use_bias=True)\n",
       "        (eval_metrics): List(\n",
       "          (0): RootMeanSquaredError()\n",
       "        )\n",
       "        (loss): MeanSquaredError()\n",
       "      )\n",
       "    )\n",
       "  )\n",
       "  (optimizer): Adam()\n",
       ")"
      ]
     },
     "execution_count": 4,
     "metadata": {},
     "output_type": "execute_result"
    }
   ],
   "source": [
    "inputs = mtf.TabularFeatures.from_column_group(train_data.columns, aggregation=\"concat\")\n",
    "block = inputs >> mtf.MLPBlock([512, 256])\n",
    "head = mtf.Head.from_column_group(train_data.columns)\n",
    "model = block.to_model(head, optimizer=\"adam\")\n",
    "\n",
    "model"
   ]
  },
  {
   "cell_type": "code",
   "execution_count": 5,
   "id": "57f9aada-f338-45bb-919f-e301ad8eb58e",
   "metadata": {},
   "outputs": [
    {
     "name": "stdout",
     "output_type": "stream",
     "text": [
      "Epoch 1/3\n",
      "WARNING:tensorflow:From /opt/conda/lib/python3.8/site-packages/tensorflow/python/ops/array_ops.py:5043: calling gather (from tensorflow.python.ops.array_ops) with validate_indices is deprecated and will be removed in a future version.\n",
      "Instructions for updating:\n",
      "The `validate_indices` argument has no effect. Indices are always validated on CPU and never validated on GPU.\n",
      "1001/1001 [==============================] - 49s 43ms/step - rating/rmse: 0.4133 - rating_binary/precision: 0.7619 - rating_binary/recall: 0.8653 - rating_binary/accuracy: 0.7468 - rating_binary/auc: 0.8059 - loss: 0.6808 - regularization_loss: 0.0000e+00 - total_loss: 0.6808\n",
      "Epoch 2/3\n",
      "1001/1001 [==============================] - 46s 43ms/step - rating/rmse: 0.3906 - rating_binary/precision: 0.7942 - rating_binary/recall: 0.8667 - rating_binary/accuracy: 0.7763 - rating_binary/auc: 0.8450 - loss: 0.6156 - regularization_loss: 0.0000e+00 - total_loss: 0.6156\n",
      "Epoch 3/3\n",
      "1001/1001 [==============================] - 45s 42ms/step - rating/rmse: 0.3728 - rating_binary/precision: 0.8167 - rating_binary/recall: 0.8735 - rating_binary/accuracy: 0.7984 - rating_binary/auc: 0.8721 - loss: 0.5643 - regularization_loss: 0.0000e+00 - total_loss: 0.5643\n"
     ]
    },
    {
     "data": {
      "text/plain": [
       "<tensorflow.python.keras.callbacks.History at 0x7f33e9403790>"
      ]
     },
     "execution_count": 5,
     "metadata": {},
     "output_type": "execute_result"
    }
   ],
   "source": [
    "model.fit(train_data, epochs=3)"
   ]
  },
  {
   "cell_type": "code",
   "execution_count": null,
   "id": "9fc90b23-9702-492a-b8da-df07a18259cb",
   "metadata": {},
   "outputs": [],
   "source": []
  }
 ],
 "metadata": {
  "kernelspec": {
   "display_name": "Python 3",
   "language": "python",
   "name": "python3"
  },
  "language_info": {
   "codemirror_mode": {
    "name": "ipython",
    "version": 3
   },
   "file_extension": ".py",
   "mimetype": "text/x-python",
   "name": "python",
   "nbconvert_exporter": "python",
   "pygments_lexer": "ipython3",
   "version": "3.8.8"
  }
 },
 "nbformat": 4,
 "nbformat_minor": 5
}

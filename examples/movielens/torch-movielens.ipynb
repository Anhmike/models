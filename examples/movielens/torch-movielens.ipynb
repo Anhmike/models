{
 "cells": [
  {
   "cell_type": "code",
   "execution_count": 1,
   "id": "vertical-appearance",
   "metadata": {},
   "outputs": [],
   "source": [
    "import torch\n",
    "import nvtabular as nvt\n",
    "from nvtabular import dataset as ds\n",
    "from merlin_models import torch as mtorch"
   ]
  },
  {
   "cell_type": "code",
   "execution_count": 2,
   "id": "3fe1cb7f-33c6-4e55-a7f1-7d821e449e81",
   "metadata": {},
   "outputs": [],
   "source": [
    "dataset = ds.MovieLens(\"/romeyn/data\")\n",
    "\n",
    "data = dataset.transform()\n",
    "stats = dataset.calculate_statistics(transformed=False, split_names=\"splits\")"
   ]
  },
  {
   "cell_type": "code",
   "execution_count": 2,
   "id": "noted-indiana",
   "metadata": {},
   "outputs": [
    {
     "data": {
      "text/html": [
       "\n",
       "<script src=\"https://cdnjs.cloudflare.com/ajax/libs/webcomponentsjs/1.3.3/webcomponents-lite.js\"></script>\n",
       "<link rel=\"import\" href=\"https://raw.githubusercontent.com/PAIR-code/facets/1.0.0/facets-dist/facets-jupyter.html\" >\n",
       "<facets-overview id=\"elem\"></facets-overview>\n",
       "<script>\n",
       " document.querySelector(\"#elem\").protoInput = \"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\";\n",
       "</script>"
      ],
      "text/plain": [
       "<IPython.core.display.HTML object>"
      ]
     },
     "metadata": {},
     "output_type": "display_data"
    }
   ],
   "source": [
    "dataset = ds.MovieLens(\"/romeyn/data\")\n",
    "\n",
    "data = dataset.transform()\n",
    "stats = dataset.calculate_statistics(transformed=False, split_names=\"splits\")\n",
    "\n",
    "stats.display_overview()"
   ]
  },
  {
   "cell_type": "code",
   "execution_count": 3,
   "id": "photographic-liquid",
   "metadata": {},
   "outputs": [
    {
     "data": {
      "text/plain": [
       "{'movieId': torch.Size([20000, 1]),\n",
       " 'rating': torch.Size([20000, 1]),\n",
       " 'userId': torch.Size([20000, 1]),\n",
       " 'genres': torch.Size([20000, 10]),\n",
       " 'rating_binary': torch.Size([20000, 1])}"
      ]
     },
     "execution_count": 3,
     "metadata": {},
     "output_type": "execute_result"
    }
   ],
   "source": [
    "dataloader_kwargs = dict(batch_size=20000, separate_labels=True, targets=[\"rating_binary\"])\n",
    "\n",
    "train_data = mtorch.DataLoader.from_directory(data.get_dir(\"train\"), **dataloader_kwargs)\n",
    "eval_data = mtorch.DataLoader.from_directory(data.get_dir(\"eval\"), **dataloader_kwargs)\n",
    "\n",
    "train_data.output_sizes"
   ]
  },
  {
   "cell_type": "code",
   "execution_count": 4,
   "id": "another-custody",
   "metadata": {},
   "outputs": [
    {
     "data": {
      "text/plain": [
       "BlockWithHead(\n",
       "  (block): SequentialBlock(\n",
       "    (0): TabularFeatures(\n",
       "      (categorical_module): EmbeddingFeatures(\n",
       "        (filter_features): FilterFeatures()\n",
       "        (embedding_tables): ModuleDict(\n",
       "          (movieId): EmbeddingBag(56585, 512, mode=mean)\n",
       "          (userId): EmbeddingBag(162541, 512, mode=mean)\n",
       "          (genres): EmbeddingBag(20, 16, mode=mean)\n",
       "        )\n",
       "      )\n",
       "      (aggregation): ConcatFeatures()\n",
       "    )\n",
       "    (1): DenseBlock(\n",
       "      (0): Linear(in_features=1040, out_features=512, bias=True)\n",
       "      (1): ReLU(inplace=True)\n",
       "    )\n",
       "    (2): DenseBlock(\n",
       "      (0): Linear(in_features=512, out_features=256, bias=True)\n",
       "      (1): ReLU(inplace=True)\n",
       "    )\n",
       "  )\n",
       "  (head): Head(\n",
       "    (tasks): ModuleDict(\n",
       "      (rating_binary): PredictionTask(\n",
       "        (metrics): ModuleList(\n",
       "          (0): Precision()\n",
       "          (1): Recall()\n",
       "          (2): Accuracy()\n",
       "        )\n",
       "        (loss): BCELoss()\n",
       "        (pre): Sequential(\n",
       "          (0): Linear(in_features=256, out_features=1, bias=False)\n",
       "          (1): Sigmoid()\n",
       "          (2): LambdaModule()\n",
       "        )\n",
       "      )\n",
       "    )\n",
       "  )\n",
       ")"
      ]
     },
     "execution_count": 4,
     "metadata": {},
     "output_type": "execute_result"
    }
   ],
   "source": [
    "inputs = mtorch.TabularFeatures.from_column_group(train_data.columns, aggregation=\"concat\")\n",
    "inputs.build(train_data.output_sizes, device=\"cuda\")\n",
    "block = inputs >> mtorch.MLPBlock([512, 256])\n",
    "\n",
    "head = mtorch.Head.from_column_group(train_data.columns, input_size=[256])\n",
    "del head.tasks[\"rating\"]\n",
    "\n",
    "model = block.to_model(head)\n",
    "\n",
    "model"
   ]
  },
  {
   "cell_type": "code",
   "execution_count": 5,
   "id": "wireless-flashing",
   "metadata": {},
   "outputs": [
    {
     "name": "stderr",
     "output_type": "stream",
     "text": [
      "1001it [00:41, 24.31it/s]\n"
     ]
    },
    {
     "name": "stdout",
     "output_type": "stream",
     "text": [
      "{'precision': tensor(0.7289, device='cuda:0'), 'recall': tensor(0.7289, device='cuda:0'), 'accuracy': tensor(0.7289, device='cuda:0')}\n",
      "{'precision': tensor(0.7463, device='cuda:0'), 'recall': tensor(0.7463, device='cuda:0'), 'accuracy': tensor(0.7463, device='cuda:0')}\n"
     ]
    },
    {
     "name": "stderr",
     "output_type": "stream",
     "text": [
      "1001it [00:40, 25.00it/s]\n"
     ]
    },
    {
     "name": "stdout",
     "output_type": "stream",
     "text": [
      "{'precision': tensor(0.7524, device='cuda:0'), 'recall': tensor(0.7524, device='cuda:0'), 'accuracy': tensor(0.7524, device='cuda:0')}\n",
      "{'precision': tensor(0.7527, device='cuda:0'), 'recall': tensor(0.7527, device='cuda:0'), 'accuracy': tensor(0.7527, device='cuda:0')}\n"
     ]
    },
    {
     "name": "stderr",
     "output_type": "stream",
     "text": [
      "1001it [00:40, 24.73it/s]\n"
     ]
    },
    {
     "name": "stdout",
     "output_type": "stream",
     "text": [
      "{'precision': tensor(0.7592, device='cuda:0'), 'recall': tensor(0.7592, device='cuda:0'), 'accuracy': tensor(0.7592, device='cuda:0')}\n",
      "{'precision': tensor(0.7557, device='cuda:0'), 'recall': tensor(0.7557, device='cuda:0'), 'accuracy': tensor(0.7557, device='cuda:0')}\n"
     ]
    },
    {
     "name": "stderr",
     "output_type": "stream",
     "text": [
      "1001it [00:43, 23.06it/s]\n"
     ]
    },
    {
     "name": "stdout",
     "output_type": "stream",
     "text": [
      "{'precision': tensor(0.7640, device='cuda:0'), 'recall': tensor(0.7640, device='cuda:0'), 'accuracy': tensor(0.7640, device='cuda:0')}\n",
      "{'precision': tensor(0.7567, device='cuda:0'), 'recall': tensor(0.7567, device='cuda:0'), 'accuracy': tensor(0.7567, device='cuda:0')}\n"
     ]
    },
    {
     "data": {
      "image/png": "[encoded data removed]",
      "text/plain": [
       "<Figure size 432x288 with 1 Axes>"
      ]
     },
     "metadata": {
      "needs_background": "light"
     },
     "output_type": "display_data"
    }
   ],
   "source": [
    "import matplotlib.pyplot as plt\n",
    "\n",
    "losses = model.fit(train_data, eval_dataloader=eval_data, num_epochs=4, amp=False)\n",
    "\n",
    "plt.plot(losses)\n",
    "plt.xlabel('Epochs')\n",
    "plt.ylabel('Loss')\n",
    "plt.show()"
   ]
  },
  {
   "cell_type": "code",
   "execution_count": null,
   "id": "unexpected-course",
   "metadata": {},
   "outputs": [],
   "source": []
  }
 ],
 "metadata": {
  "kernelspec": {
   "display_name": "Python 3",
   "language": "python",
   "name": "python3"
  },
  "language_info": {
   "codemirror_mode": {
    "name": "ipython",
    "version": 3
   },
   "file_extension": ".py",
   "mimetype": "text/x-python",
   "name": "python",
   "nbconvert_exporter": "python",
   "pygments_lexer": "ipython3",
   "version": "3.8.8"
  }
 },
 "nbformat": 4,
 "nbformat_minor": 5
}

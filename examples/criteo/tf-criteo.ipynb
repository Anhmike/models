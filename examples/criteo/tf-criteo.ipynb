{
 "cells": [
  {
   "cell_type": "code",
   "execution_count": 1,
   "id": "17cffa08-bc54-424c-91ae-944c90f34219",
   "metadata": {},
   "outputs": [],
   "source": [
    "import os\n",
    "\n",
    "import logging\n",
    "logging.basicConfig(level=logging.INFO)\n",
    "\n",
    "import cudf\n",
    "import dask_cudf\n",
    "import nvtabular as nvt\n",
    "from nvtabular import dataset as ds"
   ]
  },
  {
   "cell_type": "code",
   "execution_count": 2,
   "id": "d581d244-dd22-4c9a-b468-1aa90e997644",
   "metadata": {},
   "outputs": [
    {
     "name": "stderr",
     "output_type": "stream",
     "text": [
      "INFO:numba.cuda.cudadrv.driver:init\n"
     ]
    }
   ],
   "source": [
    "dask_client_fn = ds.create_multi_gpu_dask_client_fn(gpu_ids=[0],\n",
    "                                                    part_mem_frac=0.10,\n",
    "                                                    dashboard_port=\"8787\",\n",
    "                                                    dask_dir=os.path.join(\"/romeyn/data\", \"dask-space\"))"
   ]
  },
  {
   "cell_type": "code",
   "execution_count": 3,
   "id": "ee8dd9e6-f9d5-4a9b-a789-fb79166ecee7",
   "metadata": {},
   "outputs": [
    {
     "name": "stderr",
     "output_type": "stream",
     "text": [
      "INFO:nvtabular:Loading Transforming dataset from cache...\n"
     ]
    },
    {
     "data": {
      "text/plain": [
       "namespace(train='/romeyn/data/criteo/transformed/394830a4d1d4ecdacdf28690de306e42_12490ee037e0aaafc0cc37e584695fb8',\n",
       "          eval='/romeyn/data/criteo/transformed/110888a6405644d371f2d19cbda9a35f_12490ee037e0aaafc0cc37e584695fb8')"
      ]
     },
     "execution_count": 3,
     "metadata": {},
     "output_type": "execute_result"
    }
   ],
   "source": [
    "dataset = ds.Criteo(\"/romeyn/data\", client_fn=dask_client_fn)\n",
    "data = dataset.transform(part_size=dask_client_fn.part_size, for_training=True)\n",
    "\n",
    "data"
   ]
  },
  {
   "cell_type": "code",
   "execution_count": 4,
   "id": "bebf55ca-e607-412e-8e7b-1c5815518a3c",
   "metadata": {},
   "outputs": [],
   "source": [
    "os.environ[\"TF_MEMORY_ALLOCATION\"] = \"0.7\"\n",
    "\n",
    "import tensorflow as tf\n",
    "from merlin_models import tf as mtf"
   ]
  },
  {
   "cell_type": "code",
   "execution_count": 6,
   "id": "19aa9554-9569-4fd4-83c8-9da98abf2cf9",
   "metadata": {},
   "outputs": [
    {
     "data": {
      "text/plain": [
       "{'C1': TensorShape([10000, 1]),\n",
       " 'C2': TensorShape([10000, 1]),\n",
       " 'C3': TensorShape([10000, 1]),\n",
       " 'C4': TensorShape([10000, 1]),\n",
       " 'C5': TensorShape([10000, 1]),\n",
       " 'C6': TensorShape([10000, 1]),\n",
       " 'C7': TensorShape([10000, 1]),\n",
       " 'C8': TensorShape([10000, 1]),\n",
       " 'C9': TensorShape([10000, 1]),\n",
       " 'C10': TensorShape([10000, 1]),\n",
       " 'C11': TensorShape([10000, 1]),\n",
       " 'C12': TensorShape([10000, 1]),\n",
       " 'C13': TensorShape([10000, 1]),\n",
       " 'C14': TensorShape([10000, 1]),\n",
       " 'C15': TensorShape([10000, 1]),\n",
       " 'C16': TensorShape([10000, 1]),\n",
       " 'C17': TensorShape([10000, 1]),\n",
       " 'C18': TensorShape([10000, 1]),\n",
       " 'C19': TensorShape([10000, 1]),\n",
       " 'C20': TensorShape([10000, 1]),\n",
       " 'C21': TensorShape([10000, 1]),\n",
       " 'C22': TensorShape([10000, 1]),\n",
       " 'C23': TensorShape([10000, 1]),\n",
       " 'C24': TensorShape([10000, 1]),\n",
       " 'C25': TensorShape([10000, 1]),\n",
       " 'C26': TensorShape([10000, 1]),\n",
       " 'I1': TensorShape([10000, 1]),\n",
       " 'I2': TensorShape([10000, 1]),\n",
       " 'I3': TensorShape([10000, 1]),\n",
       " 'I4': TensorShape([10000, 1]),\n",
       " 'I5': TensorShape([10000, 1]),\n",
       " 'I6': TensorShape([10000, 1]),\n",
       " 'I7': TensorShape([10000, 1]),\n",
       " 'I8': TensorShape([10000, 1]),\n",
       " 'I9': TensorShape([10000, 1]),\n",
       " 'I10': TensorShape([10000, 1]),\n",
       " 'I11': TensorShape([10000, 1]),\n",
       " 'I12': TensorShape([10000, 1]),\n",
       " 'I13': TensorShape([10000, 1]),\n",
       " 'label': TensorShape([10000, 1])}"
      ]
     },
     "execution_count": 6,
     "metadata": {},
     "output_type": "execute_result"
    }
   ],
   "source": [
    "dataloader_kwargs = dict(batch_size=10000, separate_labels=True)\n",
    "\n",
    "train_data = mtf.DataLoader.from_directory(data.train, **dataloader_kwargs)\n",
    "eval_data = mtf.DataLoader.from_directory(data.eval, **dataloader_kwargs)\n",
    "\n",
    "train_data.output_shapes"
   ]
  },
  {
   "cell_type": "code",
   "execution_count": 7,
   "id": "181094c9-3941-4185-92e4-acdf8898e785",
   "metadata": {},
   "outputs": [
    {
     "data": {
      "text/plain": [
       "DLRMBlockWithHead(\n",
       "  (block): DLRMBlock(\n",
       "    (stack_features): MergeTabular(\n",
       "      (to_merge): List(\n",
       "        (0): EmbeddingFeatures(\n",
       "          (convert_to_sparse): AsSparseFeatures()\n",
       "          (embeddings): Dict(\n",
       "            (C1): TableConfig(vocabulary_size=9999999, dim=16, initializer=None, optimizer=None, combiner='mean', name='C1')\n",
       "            (C2): TableConfig(vocabulary_size=29427, dim=16, initializer=None, optimizer=None, combiner='mean', name='C2')\n",
       "            (C3): TableConfig(vocabulary_size=15127, dim=16, initializer=None, optimizer=None, combiner='mean', name='C3')\n",
       "            (C4): TableConfig(vocabulary_size=7295, dim=16, initializer=None, optimizer=None, combiner='mean', name='C4')\n",
       "            (C5): TableConfig(vocabulary_size=19901, dim=16, initializer=None, optimizer=None, combiner='mean', name='C5')\n",
       "            (C6): TableConfig(vocabulary_size=3, dim=16, initializer=None, optimizer=None, combiner='mean', name='C6')\n",
       "            (C7): TableConfig(vocabulary_size=6465, dim=16, initializer=None, optimizer=None, combiner='mean', name='C7')\n",
       "            (C8): TableConfig(vocabulary_size=1310, dim=16, initializer=None, optimizer=None, combiner='mean', name='C8')\n",
       "            (C9): TableConfig(vocabulary_size=61, dim=16, initializer=None, optimizer=None, combiner='mean', name='C9')\n",
       "            (C10): TableConfig(vocabulary_size=9999999, dim=16, initializer=None, optimizer=None, combiner='mean', name='C10')\n",
       "            (C11): TableConfig(vocabulary_size=622920, dim=16, initializer=None, optimizer=None, combiner='mean', name='C11')\n",
       "            (C12): TableConfig(vocabulary_size=219556, dim=16, initializer=None, optimizer=None, combiner='mean', name='C12')\n",
       "            (C13): TableConfig(vocabulary_size=10, dim=16, initializer=None, optimizer=None, combiner='mean', name='C13')\n",
       "            (C14): TableConfig(vocabulary_size=2208, dim=16, initializer=None, optimizer=None, combiner='mean', name='C14')\n",
       "            (C15): TableConfig(vocabulary_size=9779, dim=16, initializer=None, optimizer=None, combiner='mean', name='C15')\n",
       "            (C16): TableConfig(vocabulary_size=70, dim=16, initializer=None, optimizer=None, combiner='mean', name='C16')\n",
       "            (C17): TableConfig(vocabulary_size=3, dim=16, initializer=None, optimizer=None, combiner='mean', name='C17')\n",
       "            (C18): TableConfig(vocabulary_size=963, dim=16, initializer=None, optimizer=None, combiner='mean', name='C18')\n",
       "            (C19): TableConfig(vocabulary_size=14, dim=16, initializer=None, optimizer=None, combiner='mean', name='C19')\n",
       "            (C20): TableConfig(vocabulary_size=9999999, dim=16, initializer=None, optimizer=None, combiner='mean', name='C20')\n",
       "            (C21): TableConfig(vocabulary_size=4384509, dim=16, initializer=None, optimizer=None, combiner='mean', name='C21')\n",
       "            (C22): TableConfig(vocabulary_size=9999999, dim=16, initializer=None, optimizer=None, combiner='mean', name='C22')\n",
       "            (C23): TableConfig(vocabulary_size=290587, dim=16, initializer=None, optimizer=None, combiner='mean', name='C23')\n",
       "            (C24): TableConfig(vocabulary_size=10829, dim=16, initializer=None, optimizer=None, combiner='mean', name='C24')\n",
       "            (C25): TableConfig(vocabulary_size=95, dim=16, initializer=None, optimizer=None, combiner='mean', name='C25')\n",
       "            (C26): TableConfig(vocabulary_size=34, dim=16, initializer=None, optimizer=None, combiner='mean', name='C26')\n",
       "          )\n",
       "        )\n",
       "        (1): ContinuousEmbedding(\n",
       "          (layers): List(\n",
       "            (0): ContinuousFeatures(\n",
       "              I1, I10, I11, I12, I13, I2, I3, I4, I5, I6, I7, I8, I9\n",
       "              (aggregation): ConcatFeatures()\n",
       "            )\n",
       "            (1): Dense(64, activation=relu, use_bias=True)\n",
       "            (2): Dense(16, activation=relu, use_bias=True)\n",
       "            (3): ExpandDimsAndToTabular()\n",
       "          )\n",
       "        )\n",
       "      )\n",
       "      (aggregation): StackFeatures()\n",
       "    )\n",
       "    (interaction_layer): DotProductInteraction()\n",
       "    (top_mlp): MLPBlock(\n",
       "      (layers): List(\n",
       "        (0): Dense(256, activation=relu, use_bias=True)\n",
       "        (1): Dense(128, activation=relu, use_bias=True)\n",
       "        (2): Dense(64, activation=relu, use_bias=True)\n",
       "      )\n",
       "    )\n",
       "  )\n",
       "  (head): Head(\n",
       "    (tasks): Dict(\n",
       "      (label): Task(\n",
       "        (pre): Dense(1, activation=sigmoid, use_bias=True)\n",
       "        (eval_metrics): List(\n",
       "          (0): Precision()\n",
       "          (1): Recall()\n",
       "          (2): BinaryAccuracy()\n",
       "          (3): AUC()\n",
       "        )\n",
       "        (loss): BinaryCrossentropy()\n",
       "      )\n",
       "    )\n",
       "  )\n",
       ")"
      ]
     },
     "execution_count": 7,
     "metadata": {},
     "output_type": "execute_result"
    }
   ],
   "source": [
    "bottom_mlp = mtf.MLPBlock([64, 16])\n",
    "top_mlp = mtf.MLPBlock([256, 128, 64])\n",
    "dlrm_block = mtf.DLRMBlock.from_column_group(train_data.columns, bottom_mlp, top_mlp=top_mlp)\n",
    "\n",
    "head = mtf.Head.from_column_group(train_data.columns)\n",
    "model = dlrm_block.to_model(head=head)\n",
    "\n",
    "model"
   ]
  },
  {
   "cell_type": "code",
   "execution_count": null,
   "id": "993f8361-886f-424c-953c-651186bab7cf",
   "metadata": {},
   "outputs": [],
   "source": []
  }
 ],
 "metadata": {
  "kernelspec": {
   "display_name": "Python 3",
   "language": "python",
   "name": "python3"
  },
  "language_info": {
   "codemirror_mode": {
    "name": "ipython",
    "version": 3
   },
   "file_extension": ".py",
   "mimetype": "text/x-python",
   "name": "python",
   "nbconvert_exporter": "python",
   "pygments_lexer": "ipython3",
   "version": "3.8.8"
  }
 },
 "nbformat": 4,
 "nbformat_minor": 5
}